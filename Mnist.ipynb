{
  "nbformat": 4,
  "nbformat_minor": 0,
  "metadata": {
    "colab": {
      "name": "Mnist.ipynb",
      "provenance": [],
      "collapsed_sections": []
    },
    "kernelspec": {
      "name": "python3",
      "display_name": "Python 3"
    },
    "accelerator": "TPU"
  },
  "cells": [
    {
      "cell_type": "code",
      "metadata": {
        "id": "4qmZ68Z2QmTL",
        "colab_type": "code",
        "outputId": "28b936a0-9506-4a06-edfb-81f52a0496b8",
        "colab": {
          "base_uri": "https://localhost:8080/",
          "height": 476
        }
      },
      "source": [
        "!pip install wandb --upgrade\n",
        "# !wandb login \n",
        "\n",
        "import numpy as np\n",
        "from keras.datasets import mnist\n",
        "from keras.models import Sequential\n",
        "from keras.layers import Dense, Flatten, Dropout\n",
        "from keras.utils import np_utils\n",
        "# import wandb\n",
        "# from wandb.keras import WandbCallback\n",
        "import os\n",
        "from datetime import datetime\n",
        "import pytz\n",
        "import matplotlib.pyplot as plt\n",
        "from sklearn.metrics import confusion_matrix\n",
        "from mlxtend.plotting import plot_confusion_matrix\n",
        "\n",
        "pacific_timezone = pytz.timezone(\"US/Pacific\")\n",
        "utc_timezone = pytz.timezone(\"UTC\")"
      ],
      "execution_count": 0,
      "outputs": [
        {
          "output_type": "stream",
          "text": [
            "Requirement already up-to-date: wandb in /usr/local/lib/python3.6/dist-packages (0.8.30)\n",
            "Requirement already satisfied, skipping upgrade: Click>=7.0 in /usr/local/lib/python3.6/dist-packages (from wandb) (7.1.1)\n",
            "Requirement already satisfied, skipping upgrade: docker-pycreds>=0.4.0 in /usr/local/lib/python3.6/dist-packages (from wandb) (0.4.0)\n",
            "Requirement already satisfied, skipping upgrade: configparser>=3.8.1 in /usr/local/lib/python3.6/dist-packages (from wandb) (4.0.2)\n",
            "Requirement already satisfied, skipping upgrade: python-dateutil>=2.6.1 in /usr/local/lib/python3.6/dist-packages (from wandb) (2.8.1)\n",
            "Requirement already satisfied, skipping upgrade: psutil>=5.0.0 in /usr/local/lib/python3.6/dist-packages (from wandb) (5.4.8)\n",
            "Requirement already satisfied, skipping upgrade: nvidia-ml-py3>=7.352.0 in /usr/local/lib/python3.6/dist-packages (from wandb) (7.352.0)\n",
            "Requirement already satisfied, skipping upgrade: subprocess32>=3.5.3 in /usr/local/lib/python3.6/dist-packages (from wandb) (3.5.4)\n",
            "Requirement already satisfied, skipping upgrade: six>=1.10.0 in /usr/local/lib/python3.6/dist-packages (from wandb) (1.12.0)\n",
            "Requirement already satisfied, skipping upgrade: sentry-sdk>=0.4.0 in /usr/local/lib/python3.6/dist-packages (from wandb) (0.14.3)\n",
            "Requirement already satisfied, skipping upgrade: shortuuid>=0.5.0 in /usr/local/lib/python3.6/dist-packages (from wandb) (1.0.1)\n",
            "Requirement already satisfied, skipping upgrade: GitPython>=1.0.0 in /usr/local/lib/python3.6/dist-packages (from wandb) (3.1.0)\n",
            "Requirement already satisfied, skipping upgrade: requests>=2.0.0 in /usr/local/lib/python3.6/dist-packages (from wandb) (2.21.0)\n",
            "Requirement already satisfied, skipping upgrade: gql==0.2.0 in /usr/local/lib/python3.6/dist-packages (from wandb) (0.2.0)\n",
            "Requirement already satisfied, skipping upgrade: PyYAML>=3.10 in /usr/local/lib/python3.6/dist-packages (from wandb) (3.13)\n",
            "Requirement already satisfied, skipping upgrade: watchdog>=0.8.3 in /usr/local/lib/python3.6/dist-packages (from wandb) (0.10.2)\n",
            "Requirement already satisfied, skipping upgrade: certifi in /usr/local/lib/python3.6/dist-packages (from sentry-sdk>=0.4.0->wandb) (2019.11.28)\n",
            "Requirement already satisfied, skipping upgrade: urllib3>=1.10.0 in /usr/local/lib/python3.6/dist-packages (from sentry-sdk>=0.4.0->wandb) (1.24.3)\n",
            "Requirement already satisfied, skipping upgrade: gitdb<5,>=4.0.1 in /usr/local/lib/python3.6/dist-packages (from GitPython>=1.0.0->wandb) (4.0.2)\n",
            "Requirement already satisfied, skipping upgrade: idna<2.9,>=2.5 in /usr/local/lib/python3.6/dist-packages (from requests>=2.0.0->wandb) (2.8)\n",
            "Requirement already satisfied, skipping upgrade: chardet<3.1.0,>=3.0.2 in /usr/local/lib/python3.6/dist-packages (from requests>=2.0.0->wandb) (3.0.4)\n",
            "Requirement already satisfied, skipping upgrade: promise<3,>=2.0 in /usr/local/lib/python3.6/dist-packages (from gql==0.2.0->wandb) (2.3)\n",
            "Requirement already satisfied, skipping upgrade: graphql-core<2,>=0.5.0 in /usr/local/lib/python3.6/dist-packages (from gql==0.2.0->wandb) (1.1)\n",
            "Requirement already satisfied, skipping upgrade: pathtools>=0.1.1 in /usr/local/lib/python3.6/dist-packages (from watchdog>=0.8.3->wandb) (0.1.2)\n",
            "Requirement already satisfied, skipping upgrade: smmap<4,>=3.0.1 in /usr/local/lib/python3.6/dist-packages (from gitdb<5,>=4.0.1->GitPython>=1.0.0->wandb) (3.0.1)\n",
            "\u001b[34m\u001b[1mwandb\u001b[0m: Appending key for api.wandb.ai to your netrc file: /root/.netrc\n",
            "\u001b[32mSuccessfully logged in to Weights & Biases!\u001b[0m\n"
          ],
          "name": "stdout"
        }
      ]
    },
    {
      "cell_type": "code",
      "metadata": {
        "id": "Ek1fnDN-RmXE",
        "colab_type": "code",
        "colab": {}
      },
      "source": [
        "def draw_digit(digit, label=None):\n",
        "  # Make those columns into a array of 8-bits pixels\n",
        "  # This array will be of 1D with length 784\n",
        "  # The pixel intensity values are integers from 0 to 255\n",
        "  pixels = np.array(digit * 255, dtype='uint8')\n",
        "\n",
        "  # Reshape the array into 28 x 28 array (2-dimensional array)\n",
        "  pixels = pixels.reshape((28, 28))\n",
        "\n",
        "  # Plot\n",
        "  if label is not None:\n",
        "    plt.title('Label is {label}'.format(label=label))\n",
        "  plt.imshow(pixels, cmap='gray')\n",
        "  plt.show()"
      ],
      "execution_count": 0,
      "outputs": []
    },
    {
      "cell_type": "code",
      "metadata": {
        "id": "CFdfjRD5Rwg2",
        "colab_type": "code",
        "outputId": "0301dfcf-8c16-4c41-8a33-1fc5ab360ffc",
        "colab": {
          "base_uri": "https://localhost:8080/",
          "height": 68
        }
      },
      "source": [
        "# current_time = utc_timezone.localize(datetime.now()).astimezone(pacific_timezone).strftime(\"%H:%M:%S\")\n",
        "# run = wandb.init(project=\"Mnist\", group=\"Ryan\", name=\"Ryan - \"+current_time)\n",
        "\n",
        "# Normalize data\n",
        "(X_train, y_train), (X_test, y_test) = mnist.load_data()\n",
        "X_train = X_train.astype('float32')\n",
        "X_train = X_train / 255.0\n",
        "X_test = X_test.astype('float32')\n",
        "X_test = X_test / 255.0\n",
        "\n",
        "# Get image height and width\n",
        "img_height = X_train.shape[2]\n",
        "img_width = X_train.shape[1]\n",
        "\n",
        "# One-hot encode outputs\n",
        "y_train = np_utils.to_categorical(y_train)\n",
        "y_test = np_utils.to_categorical(y_test)\n",
        "\n",
        "num_classes = y_train.shape[1]\n",
        "\n"
      ],
      "execution_count": 0,
      "outputs": [
        {
          "output_type": "display_data",
          "data": {
            "text/html": [
              "\n",
              "                Logging results to <a href=\"https://wandb.com\" target=\"_blank\">Weights & Biases</a> <a href=\"https://docs.wandb.com/integrations/jupyter.html\" target=\"_blank\">(Documentation)</a>.<br/>\n",
              "                Project page: <a href=\"https://app.wandb.ai/nauqgnesh/Mnist\" target=\"_blank\">https://app.wandb.ai/nauqgnesh/Mnist</a><br/>\n",
              "                Run page: <a href=\"https://app.wandb.ai/nauqgnesh/Mnist/runs/1socppgz\" target=\"_blank\">https://app.wandb.ai/nauqgnesh/Mnist/runs/1socppgz</a><br/>\n",
              "            "
            ],
            "text/plain": [
              "<IPython.core.display.HTML object>"
            ]
          },
          "metadata": {
            "tags": []
          }
        }
      ]
    },
    {
      "cell_type": "code",
      "metadata": {
        "id": "tEfDg-NkSQQd",
        "colab_type": "code",
        "colab": {}
      },
      "source": [
        "def create_model():\n",
        "  model = Sequential()\n",
        "  model.add(Flatten(input_shape=(img_width, img_height))) # Turn grid into array\n",
        "  model.add(Dense(num_classes, activation=\"relu\"))        # Hidden layer\n",
        "  model.add(Dense(500, activation=\"relu\"))        # Hidden layer\n",
        "  model.add(Dense(500, activation=\"relu\"))        # Hidden layer\n",
        "  model.add(Dense(num_classes, activation=\"softmax\"))     # Output layer\n",
        "\n",
        "  model.compile(loss=\"categorical_crossentropy\", optimizer=\"adam\",\n",
        "                metrics=['accuracy'])\n",
        "  \n",
        "  # Save model to W&B\n",
        "  # model.save(os.path.join(wandb.run.dir, \"model.h5\"))\n",
        "  return model"
      ],
      "execution_count": 0,
      "outputs": []
    },
    {
      "cell_type": "code",
      "metadata": {
        "id": "wLEfUOB3S2Qd",
        "colab_type": "code",
        "outputId": "319bcc1d-f278-423b-ac5b-fba509a41719",
        "colab": {
          "base_uri": "https://localhost:8080/",
          "height": 629
        }
      },
      "source": [
        "# Train model\n",
        "model = create_model()\n",
        "model.summary()\n",
        "model.fit(X_train, y_train, validation_data=(X_test, y_test), epochs=8, callbacks=[WandbCallback()])\n"
      ],
      "execution_count": 0,
      "outputs": [
        {
          "output_type": "stream",
          "text": [
            "Model: \"sequential_2\"\n",
            "_________________________________________________________________\n",
            "Layer (type)                 Output Shape              Param #   \n",
            "=================================================================\n",
            "flatten_2 (Flatten)          (None, 784)               0         \n",
            "_________________________________________________________________\n",
            "dense_5 (Dense)              (None, 10)                7850      \n",
            "_________________________________________________________________\n",
            "dense_6 (Dense)              (None, 500)               5500      \n",
            "_________________________________________________________________\n",
            "dense_7 (Dense)              (None, 500)               250500    \n",
            "_________________________________________________________________\n",
            "dense_8 (Dense)              (None, 10)                5010      \n",
            "=================================================================\n",
            "Total params: 268,860\n",
            "Trainable params: 268,860\n",
            "Non-trainable params: 0\n",
            "_________________________________________________________________\n",
            "Train on 60000 samples, validate on 10000 samples\n",
            "Epoch 1/8\n",
            "60000/60000 [==============================] - 12s 204us/step - loss: 0.3303 - acc: 0.8975 - val_loss: 0.2045 - val_acc: 0.9377\n",
            "Epoch 2/8\n",
            "60000/60000 [==============================] - 12s 207us/step - loss: 0.1857 - acc: 0.9431 - val_loss: 0.1678 - val_acc: 0.9477\n",
            "Epoch 3/8\n",
            "60000/60000 [==============================] - 12s 200us/step - loss: 0.1548 - acc: 0.9523 - val_loss: 0.1539 - val_acc: 0.9509\n",
            "Epoch 4/8\n",
            "60000/60000 [==============================] - 12s 201us/step - loss: 0.1382 - acc: 0.9571 - val_loss: 0.1419 - val_acc: 0.9579\n",
            "Epoch 5/8\n",
            "60000/60000 [==============================] - 11s 191us/step - loss: 0.1249 - acc: 0.9602 - val_loss: 0.1389 - val_acc: 0.9564\n",
            "Epoch 6/8\n",
            "60000/60000 [==============================] - 12s 195us/step - loss: 0.1128 - acc: 0.9633 - val_loss: 0.1408 - val_acc: 0.9562\n",
            "Epoch 7/8\n",
            "60000/60000 [==============================] - 12s 198us/step - loss: 0.1074 - acc: 0.9655 - val_loss: 0.1353 - val_acc: 0.9604\n",
            "Epoch 8/8\n",
            "60000/60000 [==============================] - 12s 196us/step - loss: 0.0988 - acc: 0.9676 - val_loss: 0.1336 - val_acc: 0.9572\n"
          ],
          "name": "stdout"
        },
        {
          "output_type": "execute_result",
          "data": {
            "text/plain": [
              "<keras.callbacks.History at 0x7fe569007a58>"
            ]
          },
          "metadata": {
            "tags": []
          },
          "execution_count": 12
        }
      ]
    },
    {
      "cell_type": "code",
      "metadata": {
        "id": "mzLMeyejRxVu",
        "colab_type": "code",
        "outputId": "bc6afae9-40fa-406d-ec0b-15125786fef9",
        "colab": {
          "base_uri": "https://localhost:8080/",
          "height": 486
        }
      },
      "source": [
        "predictions = model.predict(X_test)\n",
        "corrects = []\n",
        "incorrects = []\n",
        "for i in range(len(predictions)):\n",
        "  if np.argmax(predictions[i]) == np.argmax(y_test[i]):\n",
        "    corrects.append(i)\n",
        "  else:\n",
        "    incorrects.append(i)\n",
        "\n",
        "print(f\"Percentage Correct: {int(len(corrects) / (len(corrects) + len(incorrects)) * 100000) / 1000.0}%\")\n",
        "\n",
        "index = incorrects[32]\n",
        "digit = X_test[index]\n",
        "label = y_test[index]\n",
        "prediction = model.predict([[digit]])\n",
        "draw_digit(digit)\n",
        "print(f\"We know it is a: {np.argmax(label)}\")\n",
        "print(f\"Predicted to be a: {np.argmax(prediction)}\")\n",
        "print('\\n'.join([f'{i}: {int(prediction[0][i] * 100000) / 1000}%' for i in range(len(prediction[0]))]))"
      ],
      "execution_count": 0,
      "outputs": [
        {
          "output_type": "stream",
          "text": [
            "Percentage Correct: 95.72%\n"
          ],
          "name": "stdout"
        },
        {
          "output_type": "display_data",
          "data": {
            "image/png": "[encoded data removed]",
            "text/plain": [
              "<Figure size 432x288 with 1 Axes>"
            ]
          },
          "metadata": {
            "tags": []
          }
        },
        {
          "output_type": "stream",
          "text": [
            "We know it is a: 5\n",
            "Predicted to be a: 8\n",
            "0: 0.012%\n",
            "1: 0.0%\n",
            "2: 0.004%\n",
            "3: 0.007%\n",
            "4: 0.0%\n",
            "5: 4.175%\n",
            "6: 2.953%\n",
            "7: 0.0%\n",
            "8: 92.813%\n",
            "9: 0.032%\n"
          ],
          "name": "stdout"
        }
      ]
    },
    {
      "cell_type": "code",
      "metadata": {
        "id": "N2o2zqghTivB",
        "colab_type": "code",
        "outputId": "8f4da79c-be16-44dc-b2eb-b278db6ec516",
        "colab": {
          "base_uri": "https://localhost:8080/",
          "height": 279
        }
      },
      "source": [
        "#Confusion Matrix \n",
        "\n",
        "predictions = model.predict([X_test])\n",
        "mod_preds = []\n",
        "mod_actual = []\n",
        "for i in range(len(predictions)):\n",
        "  new_pred = np.argmax(predictions[i])\n",
        "  new_act = np.argmax(y_test[i])\n",
        "  mod_preds.append(new_pred)\n",
        "  mod_actual.append(new_act)\n",
        "\n",
        "# print (mod_preds)\n",
        "# print(mod_actual)\n",
        "cm = confusion_matrix(mod_actual, mod_preds)\n",
        "fig, ax = plot_confusion_matrix(conf_mat = cm)\n",
        "plt.show()"
      ],
      "execution_count": 0,
      "outputs": [
        {
          "output_type": "display_data",
          "data": {
            "image/png": "[encoded data removed]",
            "text/plain": [
              "<Figure size 432x288 with 1 Axes>"
            ]
          },
          "metadata": {
            "tags": []
          }
        }
      ]
    }
  ]
}